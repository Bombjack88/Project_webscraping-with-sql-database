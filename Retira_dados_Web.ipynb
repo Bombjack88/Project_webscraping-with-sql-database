{
 "cells": [
  {
   "cell_type": "markdown",
   "metadata": {},
   "source": [
    "## 1) Importação dos packages necessários"
   ]
  },
  {
   "cell_type": "code",
   "execution_count": 1,
   "metadata": {},
   "outputs": [],
   "source": [
    "import requests\n",
    "import ast\n",
    "import pandas as pd\n",
    "import time\n",
    "from urllib.error import URLError, HTTPError\n",
    "from urllib.request import Request, urlopen\n",
    "import bs4"
   ]
  },
  {
   "cell_type": "markdown",
   "metadata": {},
   "source": [
    "## 2) Retirar a informação da página web"
   ]
  },
  {
   "cell_type": "code",
   "execution_count": 2,
   "metadata": {},
   "outputs": [],
   "source": [
    "# Informação do agente\n",
    "\n",
    "agente = \"Mozilla/5.0 (Linux; Android 6.0; Nexus 5 Build/MRA58N) AppleWebKit/537.36 (KHTML, like Gecko) Chrome/92.0.4515.131 Mobile Safari/537.36\"\n",
    "headers = {'User-Agent': agente}"
   ]
  },
  {
   "cell_type": "code",
   "execution_count": 3,
   "metadata": {},
   "outputs": [],
   "source": [
    "# Função para chamar a página WEB\n",
    "\n",
    "def ConsultaWebB(url):\n",
    "    try:\n",
    "        req = Request(url, headers = headers)\n",
    "        response = urlopen(req)\n",
    "        return response.read()\n",
    "\n",
    "    except:\n",
    "        pass"
   ]
  },
  {
   "cell_type": "code",
   "execution_count": 4,
   "metadata": {},
   "outputs": [],
   "source": [
    "#teste à função:\n",
    "#ConsultaWebB('https://www.legislador.com.br//LegisladorWEB.ASP?WCI=ProposicaoTexto&ID=3&TPProposicao=1&nrProposicao=200&aaProposicao=2021')"
   ]
  },
  {
   "cell_type": "code",
   "execution_count": 5,
   "metadata": {},
   "outputs": [],
   "source": [
    "# Função para transformar a página encontrada em um objeto utilizável\n",
    "\n",
    "def captura_html_pagina(url):\n",
    "    html = ConsultaWebB(url)\n",
    "    soup = bs4.BeautifulSoup(html, 'html.parser')    \n",
    "    return soup"
   ]
  },
  {
   "cell_type": "code",
   "execution_count": 6,
   "metadata": {},
   "outputs": [],
   "source": [
    "#teste\n",
    "#captura_html_pagina('https://www.legislador.com.br//LegisladorWEB.ASP?WCI=ProposicaoTexto&ID=3&TPProposicao=1&nrProposicao=200&aaProposicao=2021')"
   ]
  },
  {
   "cell_type": "code",
   "execution_count": 7,
   "metadata": {},
   "outputs": [],
   "source": [
    "# Função para retirar as informações do cabeçalho da página\n",
    "\n",
    "def Cabecalho(html):\n",
    "    dt = html.find_all('dt')\n",
    "    dd = html.find_all('dd')\n",
    "    dic = {}\n",
    "    for i in range(len(dt)):\n",
    "        x = dt[i].get_text()\n",
    "        y = dd[i].get_text() \n",
    "        dic[x] = y\n",
    "    return dic"
   ]
  },
  {
   "cell_type": "code",
   "execution_count": 8,
   "metadata": {},
   "outputs": [],
   "source": [
    "#teste\n",
    "#url='https://www.legislador.com.br//LegisladorWEB.ASP?WCI=ProposicaoTexto&ID=3&TPProposicao=1&nrProposicao=200&aaProposicao=2021'\n",
    "#html = captura_html_pagina(url)\n",
    "#Cabecalho(html)"
   ]
  },
  {
   "cell_type": "code",
   "execution_count": 9,
   "metadata": {},
   "outputs": [],
   "source": [
    "# Funçao para retirar o conteúdo da página e transformar em um dicionário\n",
    "def Conteudo(proposicao, ano):\n",
    "    url='https://www.legislador.com.br//LegisladorWEB.ASP?WCI=ProposicaoTexto&ID=3&TPProposicao=1&nrProposicao='+str(proposicao)+'&aaProposicao='+str(ano)\n",
    "    html = captura_html_pagina(url) # função para transformar a página encontrada em um objeto utilizável - utiliza o beautiful soup\n",
    "    dic = Cabecalho(html) # função que retira a informação do cabeçalho e coloca num dicionário - variáveies: Reunião, Deliberação, Situação, Assunto e Autor (utilizam os mesmos marcadores - dt e dd)\n",
    "    dic['Proposição'] = proposicao #acrescento no dicionário informação do n.º da proposição - informação no url e input da função\n",
    "    dic['Ano'] = ano #acrescento no dicionário informação do ano -informação do url e input da função\n",
    "    dic['Texto'] = html.p.get_text() #acrescento no dicionário informação do texto (utiliza o marcador p)\n",
    "    return dic"
   ]
  },
  {
   "cell_type": "code",
   "execution_count": 10,
   "metadata": {},
   "outputs": [
    {
     "data": {
      "text/plain": [
       "{'Reunião': '11/02/2021',\n",
       " 'Deliberação': '11/02/2021',\n",
       " 'Situação': 'Proposição Aprovada',\n",
       " 'Assunto': 'Manutenção de via pública',\n",
       " 'Autor': 'VereadorValentim Blasius.',\n",
       " 'Proposição': 200,\n",
       " 'Ano': 2021,\n",
       " 'Texto': 'O Vereador abaixo firmado requer, após ouvido o Plenário, encaminhamento de cópia da presente Indicação à Secretaria de Urbanização e Meio Ambiente solicitando manutenção de calçada da rua 25 de Maio, defronte ao nº 266, Carijós. A pedido de moradores.'}"
      ]
     },
     "execution_count": 10,
     "metadata": {},
     "output_type": "execute_result"
    }
   ],
   "source": [
    "#Teste\n",
    "Conteudo(200,2021)"
   ]
  },
  {
   "cell_type": "code",
   "execution_count": 11,
   "metadata": {},
   "outputs": [],
   "source": [
    "#Função final - vou criar uma função que coloca a informação de cada página num dicionário, depois acrescento cada dicionário numa lista e no final transformo num dataframe\n",
    "# utilização do try except para evitar os erros no url (por exemplo não existirem)\n",
    "\n",
    "def TabelaResultados(inicar_em, quantidade, ano, erros_admissiveis, segundos_espera):\n",
    "\n",
    "    ultima_consulta = inicar_em + quantidade - 1\n",
    "\n",
    "    # erros\n",
    "    erros = 0\n",
    "\n",
    "    # variaveis para loop\n",
    "    i = 1\n",
    "    lista = []\n",
    "\n",
    "    while inicar_em <= ultima_consulta and erros <= erros_admissiveis:\n",
    "\n",
    "        try:\n",
    "            x = Conteudo(inicar_em,ano)\n",
    "            lista = lista + [Conteudo(inicar_em,ano)]\n",
    "        except:\n",
    "            erros += 1\n",
    "            pass\n",
    "\n",
    "        time.sleep(segundos_espera)\n",
    "\n",
    "        # carregamento incremental das variáveis\n",
    "        inicar_em+=1 \n",
    "        i+=1\n",
    "\n",
    "\n",
    "    return pd.DataFrame(lista)"
   ]
  },
  {
   "cell_type": "code",
   "execution_count": 12,
   "metadata": {},
   "outputs": [
    {
     "data": {
      "text/html": [
       "<div>\n",
       "<style scoped>\n",
       "    .dataframe tbody tr th:only-of-type {\n",
       "        vertical-align: middle;\n",
       "    }\n",
       "\n",
       "    .dataframe tbody tr th {\n",
       "        vertical-align: top;\n",
       "    }\n",
       "\n",
       "    .dataframe thead th {\n",
       "        text-align: right;\n",
       "    }\n",
       "</style>\n",
       "<table border=\"1\" class=\"dataframe\">\n",
       "  <thead>\n",
       "    <tr style=\"text-align: right;\">\n",
       "      <th></th>\n",
       "      <th>Ano</th>\n",
       "      <th>Assunto</th>\n",
       "      <th>Autor</th>\n",
       "      <th>Deliberação</th>\n",
       "      <th>Proposição</th>\n",
       "      <th>Reunião</th>\n",
       "      <th>Situação</th>\n",
       "      <th>Texto</th>\n",
       "    </tr>\n",
       "  </thead>\n",
       "  <tbody>\n",
       "    <tr>\n",
       "      <th>0</th>\n",
       "      <td>2021</td>\n",
       "      <td>Limpeza, Macadamização, Patrolamento, Retifica...</td>\n",
       "      <td>VereadorRoger Michel Knipers.</td>\n",
       "      <td>15/03/2021</td>\n",
       "      <td>401</td>\n",
       "      <td>15/03/2021</td>\n",
       "      <td>Proposição Aprovada</td>\n",
       "      <td>O vereador abaixo firmado requer, após ouvido ...</td>\n",
       "    </tr>\n",
       "    <tr>\n",
       "      <th>1</th>\n",
       "      <td>2021</td>\n",
       "      <td>Manutenção de via pública</td>\n",
       "      <td>VereadorAna Paula Reiter.</td>\n",
       "      <td>15/03/2021</td>\n",
       "      <td>402</td>\n",
       "      <td>15/03/2021</td>\n",
       "      <td>Proposição Aprovada</td>\n",
       "      <td>A vereadora abaixo firmada requer, após ouvido...</td>\n",
       "    </tr>\n",
       "    <tr>\n",
       "      <th>2</th>\n",
       "      <td>2021</td>\n",
       "      <td>Manutenção de via pública</td>\n",
       "      <td>VereadorJonas Luiz de Lima.</td>\n",
       "      <td>NaN</td>\n",
       "      <td>403</td>\n",
       "      <td>18/03/2021</td>\n",
       "      <td>Entrada na Ordem do Dia</td>\n",
       "      <td>O Vereador abaixo firmado requer, após ouvido ...</td>\n",
       "    </tr>\n",
       "    <tr>\n",
       "      <th>3</th>\n",
       "      <td>2021</td>\n",
       "      <td>Limpeza, Macadamização, Patrolamento, Retifica...</td>\n",
       "      <td>VereadorFlávio Augusto Ferri Molinari.</td>\n",
       "      <td>NaN</td>\n",
       "      <td>404</td>\n",
       "      <td>18/03/2021</td>\n",
       "      <td>Entrada na Ordem do Dia</td>\n",
       "      <td>O vereador que está subscreve, no uso das atri...</td>\n",
       "    </tr>\n",
       "    <tr>\n",
       "      <th>4</th>\n",
       "      <td>2021</td>\n",
       "      <td>Limpeza, Macadamização, Patrolamento, Retifica...</td>\n",
       "      <td>VereadorFlávio Augusto Ferri Molinari.</td>\n",
       "      <td>NaN</td>\n",
       "      <td>405</td>\n",
       "      <td>18/03/2021</td>\n",
       "      <td>Entrada na Ordem do Dia</td>\n",
       "      <td>O vereador que está subscreve, no uso das atri...</td>\n",
       "    </tr>\n",
       "    <tr>\n",
       "      <th>5</th>\n",
       "      <td>2021</td>\n",
       "      <td>Manutenção de via pública</td>\n",
       "      <td>VereadorFlávio Augusto Ferri Molinari.</td>\n",
       "      <td>NaN</td>\n",
       "      <td>406</td>\n",
       "      <td>18/03/2021</td>\n",
       "      <td>Entrada na Ordem do Dia</td>\n",
       "      <td>O vereador que está subscreve, no uso das atri...</td>\n",
       "    </tr>\n",
       "    <tr>\n",
       "      <th>6</th>\n",
       "      <td>2021</td>\n",
       "      <td>Limpeza, Macadamização, Patrolamento, Retifica...</td>\n",
       "      <td>VereadorDiogo de Pinho.</td>\n",
       "      <td>NaN</td>\n",
       "      <td>407</td>\n",
       "      <td>18/03/2021</td>\n",
       "      <td>Entrada na Ordem do Dia</td>\n",
       "      <td>O vereador que esta subscreve, no uso das atri...</td>\n",
       "    </tr>\n",
       "    <tr>\n",
       "      <th>7</th>\n",
       "      <td>2021</td>\n",
       "      <td>Manutenção de via pública</td>\n",
       "      <td>VereadorFernanda dos Santos Cattoni.</td>\n",
       "      <td>NaN</td>\n",
       "      <td>408</td>\n",
       "      <td>18/03/2021</td>\n",
       "      <td>Entrada na Ordem do Dia</td>\n",
       "      <td>A vereadora abaixo firmada requer, após ouvido...</td>\n",
       "    </tr>\n",
       "    <tr>\n",
       "      <th>8</th>\n",
       "      <td>2021</td>\n",
       "      <td>Pontes, Bueiros, boca de lobo</td>\n",
       "      <td>VereadorFernanda dos Santos Cattoni.</td>\n",
       "      <td>NaN</td>\n",
       "      <td>409</td>\n",
       "      <td>18/03/2021</td>\n",
       "      <td>Entrada na Ordem do Dia</td>\n",
       "      <td>A vereadora que esta subscreve, no uso das atr...</td>\n",
       "    </tr>\n",
       "    <tr>\n",
       "      <th>9</th>\n",
       "      <td>2021</td>\n",
       "      <td>Manutenção de via pública</td>\n",
       "      <td>VereadorFernanda dos Santos Cattoni.</td>\n",
       "      <td>NaN</td>\n",
       "      <td>410</td>\n",
       "      <td>18/03/2021</td>\n",
       "      <td>Entrada na Ordem do Dia</td>\n",
       "      <td>A vereadora que esta subscreve, no uso das atr...</td>\n",
       "    </tr>\n",
       "  </tbody>\n",
       "</table>\n",
       "</div>"
      ],
      "text/plain": [
       "    Ano                                            Assunto  \\\n",
       "0  2021  Limpeza, Macadamização, Patrolamento, Retifica...   \n",
       "1  2021                          Manutenção de via pública   \n",
       "2  2021                          Manutenção de via pública   \n",
       "3  2021  Limpeza, Macadamização, Patrolamento, Retifica...   \n",
       "4  2021  Limpeza, Macadamização, Patrolamento, Retifica...   \n",
       "5  2021                          Manutenção de via pública   \n",
       "6  2021  Limpeza, Macadamização, Patrolamento, Retifica...   \n",
       "7  2021                          Manutenção de via pública   \n",
       "8  2021                      Pontes, Bueiros, boca de lobo   \n",
       "9  2021                          Manutenção de via pública   \n",
       "\n",
       "                                    Autor Deliberação  Proposição     Reunião  \\\n",
       "0           VereadorRoger Michel Knipers.  15/03/2021         401  15/03/2021   \n",
       "1               VereadorAna Paula Reiter.  15/03/2021         402  15/03/2021   \n",
       "2             VereadorJonas Luiz de Lima.         NaN         403  18/03/2021   \n",
       "3  VereadorFlávio Augusto Ferri Molinari.         NaN         404  18/03/2021   \n",
       "4  VereadorFlávio Augusto Ferri Molinari.         NaN         405  18/03/2021   \n",
       "5  VereadorFlávio Augusto Ferri Molinari.         NaN         406  18/03/2021   \n",
       "6                 VereadorDiogo de Pinho.         NaN         407  18/03/2021   \n",
       "7    VereadorFernanda dos Santos Cattoni.         NaN         408  18/03/2021   \n",
       "8    VereadorFernanda dos Santos Cattoni.         NaN         409  18/03/2021   \n",
       "9    VereadorFernanda dos Santos Cattoni.         NaN         410  18/03/2021   \n",
       "\n",
       "                  Situação                                              Texto  \n",
       "0      Proposição Aprovada  O vereador abaixo firmado requer, após ouvido ...  \n",
       "1      Proposição Aprovada  A vereadora abaixo firmada requer, após ouvido...  \n",
       "2  Entrada na Ordem do Dia  O Vereador abaixo firmado requer, após ouvido ...  \n",
       "3  Entrada na Ordem do Dia  O vereador que está subscreve, no uso das atri...  \n",
       "4  Entrada na Ordem do Dia  O vereador que está subscreve, no uso das atri...  \n",
       "5  Entrada na Ordem do Dia  O vereador que está subscreve, no uso das atri...  \n",
       "6  Entrada na Ordem do Dia  O vereador que esta subscreve, no uso das atri...  \n",
       "7  Entrada na Ordem do Dia  A vereadora abaixo firmada requer, após ouvido...  \n",
       "8  Entrada na Ordem do Dia  A vereadora que esta subscreve, no uso das atr...  \n",
       "9  Entrada na Ordem do Dia  A vereadora que esta subscreve, no uso das atr...  "
      ]
     },
     "execution_count": 12,
     "metadata": {},
     "output_type": "execute_result"
    }
   ],
   "source": [
    "#teste\n",
    "teste = TabelaResultados(401,10,2021,2,0.2)\n",
    "teste"
   ]
  },
  {
   "cell_type": "markdown",
   "metadata": {},
   "source": [
    "## 2) Criar a base de dados (sqlite3) e tabela"
   ]
  },
  {
   "cell_type": "markdown",
   "metadata": {},
   "source": [
    "### 2.1) Criar a base de dados utilizando o sqlite3 e a tabela proposições"
   ]
  },
  {
   "cell_type": "markdown",
   "metadata": {},
   "source": [
    "### 2.2) Alternativa - criar através do código"
   ]
  },
  {
   "cell_type": "code",
   "execution_count": 13,
   "metadata": {},
   "outputs": [
    {
     "data": {
      "text/plain": [
       "<sqlite3.Cursor at 0x2ab786378f0>"
      ]
     },
     "execution_count": 13,
     "metadata": {},
     "output_type": "execute_result"
    }
   ],
   "source": [
    "\n",
    "import sqlite3 #package sqlite\n",
    "conn = sqlite3.connect(r\"C:\\Users\\fiu126\\Desktop\\Coursera\\Maratona Power BI e Python\\alternativa.sqlite\") #cria o ficheiro sql - neste caso sqlite\n",
    "cur = conn.cursor() #uma espécie de handle\n",
    "\n",
    "#criar  a tabela proposições - primiero elimino se existir e depois crio a nova tabela\n",
    "cur.executescript('''\n",
    "\n",
    "DROP TABLE IF EXISTS Proposicoes;\n",
    "\n",
    "CREATE TABLE Proposicoes (\n",
    "    DataReuniao DATE,\n",
    "    DataDeliberacao DATE,\n",
    "    Situacao VARCHAR(200),\n",
    "    Assunto VARCHAR(1000),\n",
    "    Autor VARCHAR(1000),\n",
    "    Proposicao INT,\n",
    "    Ano INT,\n",
    "    Texto VARCHAR(8000)\n",
    ")\n",
    "''')"
   ]
  },
  {
   "cell_type": "markdown",
   "metadata": {},
   "source": [
    "### Fim 2.1 e 2.2"
   ]
  },
  {
   "cell_type": "code",
   "execution_count": 14,
   "metadata": {},
   "outputs": [],
   "source": [
    "#package e ligação à base de dados\n",
    "import sqlite3 #package sqlite\n",
    "#conn = sqlite3.connect(r\"C:\\Users\\fiu126\\Desktop\\Coursera\\Maratona Power BI e Python\\Indaial.db\")\n",
    "conn = sqlite3.connect(r\"C:\\Users\\fiu126\\Desktop\\Coursera\\Maratona Power BI e Python\\alternativa.sqlite\")\n",
    "cur = conn.cursor() #uma espécie de handle"
   ]
  },
  {
   "cell_type": "code",
   "execution_count": 15,
   "metadata": {},
   "outputs": [
    {
     "data": {
      "text/html": [
       "<div>\n",
       "<style scoped>\n",
       "    .dataframe tbody tr th:only-of-type {\n",
       "        vertical-align: middle;\n",
       "    }\n",
       "\n",
       "    .dataframe tbody tr th {\n",
       "        vertical-align: top;\n",
       "    }\n",
       "\n",
       "    .dataframe thead th {\n",
       "        text-align: right;\n",
       "    }\n",
       "</style>\n",
       "<table border=\"1\" class=\"dataframe\">\n",
       "  <thead>\n",
       "    <tr style=\"text-align: right;\">\n",
       "      <th></th>\n",
       "      <th>DataReuniao</th>\n",
       "      <th>DataDeliberacao</th>\n",
       "      <th>Situacao</th>\n",
       "      <th>Assunto</th>\n",
       "      <th>Autor</th>\n",
       "      <th>Proposicao</th>\n",
       "      <th>Ano</th>\n",
       "      <th>Texto</th>\n",
       "    </tr>\n",
       "  </thead>\n",
       "  <tbody>\n",
       "  </tbody>\n",
       "</table>\n",
       "</div>"
      ],
      "text/plain": [
       "Empty DataFrame\n",
       "Columns: [DataReuniao, DataDeliberacao, Situacao, Assunto, Autor, Proposicao, Ano, Texto]\n",
       "Index: []"
      ]
     },
     "execution_count": 15,
     "metadata": {},
     "output_type": "execute_result"
    }
   ],
   "source": [
    "#teste de consulta\n",
    "query='''\n",
    "select *\n",
    "from Proposicoes\n",
    "limit 10\n",
    "'''\n",
    "#Utilizo o panda para executar a query - query e conn (conexão)\n",
    "sql_query=pd.read_sql_query(query,conn)\n",
    "sql_query"
   ]
  },
  {
   "cell_type": "code",
   "execution_count": 16,
   "metadata": {},
   "outputs": [
    {
     "data": {
      "text/html": [
       "<div>\n",
       "<style scoped>\n",
       "    .dataframe tbody tr th:only-of-type {\n",
       "        vertical-align: middle;\n",
       "    }\n",
       "\n",
       "    .dataframe tbody tr th {\n",
       "        vertical-align: top;\n",
       "    }\n",
       "\n",
       "    .dataframe thead th {\n",
       "        text-align: right;\n",
       "    }\n",
       "</style>\n",
       "<table border=\"1\" class=\"dataframe\">\n",
       "  <thead>\n",
       "    <tr style=\"text-align: right;\">\n",
       "      <th></th>\n",
       "      <th>Reunião</th>\n",
       "      <th>Deliberação</th>\n",
       "      <th>Situação</th>\n",
       "      <th>Assunto</th>\n",
       "      <th>Autor</th>\n",
       "      <th>Proposição</th>\n",
       "      <th>Ano</th>\n",
       "      <th>Texto</th>\n",
       "    </tr>\n",
       "  </thead>\n",
       "  <tbody>\n",
       "  </tbody>\n",
       "</table>\n",
       "</div>"
      ],
      "text/plain": [
       "Empty DataFrame\n",
       "Columns: [Reunião, Deliberação, Situação, Assunto, Autor, Proposição, Ano, Texto]\n",
       "Index: []"
      ]
     },
     "execution_count": 16,
     "metadata": {},
     "output_type": "execute_result"
    }
   ],
   "source": [
    "# Criamos uma base (estou a criar um DataFrame com as colunas todas que quero vazio de modo a ter sempre as colunas todas)\n",
    "base = pd.DataFrame(columns=['Reunião', 'Deliberação', 'Situação', 'Assunto', 'Autor', 'Proposição', 'Ano', 'Texto'])\n",
    "base"
   ]
  },
  {
   "cell_type": "code",
   "execution_count": 17,
   "metadata": {},
   "outputs": [],
   "source": [
    "# função personalizada para fazer querys\n",
    "\n",
    "def SQLSelect(query):\n",
    "    \n",
    "    #conn = sqlite3.connect(r\"C:\\Users\\fiu126\\Desktop\\Coursera\\Maratona Power BI e Python\\Indaial.db\")\n",
    "    conn = sqlite3.connect(r\"C:\\Users\\fiu126\\Desktop\\Coursera\\Maratona Power BI e Python\\alternativa.sqlite\")\n",
    "\n",
    "    out = pd.read_sql_query(query,conn)\n",
    "    return out"
   ]
  },
  {
   "cell_type": "code",
   "execution_count": 18,
   "metadata": {},
   "outputs": [
    {
     "data": {
      "text/html": [
       "<div>\n",
       "<style scoped>\n",
       "    .dataframe tbody tr th:only-of-type {\n",
       "        vertical-align: middle;\n",
       "    }\n",
       "\n",
       "    .dataframe tbody tr th {\n",
       "        vertical-align: top;\n",
       "    }\n",
       "\n",
       "    .dataframe thead th {\n",
       "        text-align: right;\n",
       "    }\n",
       "</style>\n",
       "<table border=\"1\" class=\"dataframe\">\n",
       "  <thead>\n",
       "    <tr style=\"text-align: right;\">\n",
       "      <th></th>\n",
       "      <th>DataReuniao</th>\n",
       "      <th>DataDeliberacao</th>\n",
       "      <th>Situacao</th>\n",
       "      <th>Assunto</th>\n",
       "      <th>Autor</th>\n",
       "      <th>Proposicao</th>\n",
       "      <th>Ano</th>\n",
       "      <th>Texto</th>\n",
       "    </tr>\n",
       "  </thead>\n",
       "  <tbody>\n",
       "  </tbody>\n",
       "</table>\n",
       "</div>"
      ],
      "text/plain": [
       "Empty DataFrame\n",
       "Columns: [DataReuniao, DataDeliberacao, Situacao, Assunto, Autor, Proposicao, Ano, Texto]\n",
       "Index: []"
      ]
     },
     "execution_count": 18,
     "metadata": {},
     "output_type": "execute_result"
    }
   ],
   "source": [
    "SQLSelect('''\n",
    "    select *\n",
    "    from Proposicoes\n",
    "    limit 5\n",
    "''')"
   ]
  },
  {
   "cell_type": "code",
   "execution_count": 19,
   "metadata": {},
   "outputs": [],
   "source": [
    "#colocar a inserção de dados numa função\n",
    "def SQLInsertProposicoes(TabelaProposicoes):\n",
    "    \n",
    "    base = pd.DataFrame(columns=['Reunião', 'Deliberação', 'Situação', 'Assunto', 'Autor', 'Proposição', 'Ano', 'Texto']) #cria a tabela de base - DataFrame (importante porque alguns )\n",
    "    TabelaProposicoes = base.append(TabelaProposicoes).fillna('')\n",
    "\n",
    "    #conn = sqlite3.connect(r\"C:\\Users\\fiu126\\Desktop\\Coursera\\Maratona Power BI e Python\\Indaial.db\")\n",
    "    conn = sqlite3.connect(r\"C:\\Users\\fiu126\\Desktop\\Coursera\\Maratona Power BI e Python\\alternativa.sqlite\")\n",
    "\n",
    "    cursor = conn.cursor()\n",
    "\n",
    "    for index, row in TabelaProposicoes.iterrows():\n",
    "\n",
    "        cursor.execute('''\n",
    "\n",
    "            INSERT INTO Proposicoes (\n",
    "                DataReuniao,\n",
    "                DataDeliberacao,\n",
    "                Situacao,\n",
    "                Assunto,\n",
    "                Autor,\n",
    "                Proposicao,\n",
    "                Ano,\n",
    "                Texto\n",
    "            ) \n",
    "            values(?,?,?,?,?,?,?,?)''', \n",
    "\n",
    "            [row['Reunião'], \n",
    "            row['Deliberação'], \n",
    "            row['Situação'], \n",
    "            row['Assunto'], \n",
    "            row['Autor'], \n",
    "            row['Proposição'], \n",
    "            row['Ano'], \n",
    "            row['Texto']]\n",
    "\n",
    "        )\n",
    "\n",
    "    conn.commit()\n",
    "    cursor.close()"
   ]
  },
  {
   "cell_type": "code",
   "execution_count": 20,
   "metadata": {},
   "outputs": [
    {
     "name": "stderr",
     "output_type": "stream",
     "text": [
      "C:\\ProgramData\\Anaconda3\\lib\\site-packages\\pandas\\core\\frame.py:6692: FutureWarning: Sorting because non-concatenation axis is not aligned. A future version\n",
      "of pandas will change to not sort by default.\n",
      "\n",
      "To accept the future behavior, pass 'sort=False'.\n",
      "\n",
      "To retain the current behavior and silence the warning, pass 'sort=True'.\n",
      "\n",
      "  sort=sort)\n"
     ]
    },
    {
     "data": {
      "text/html": [
       "<div>\n",
       "<style scoped>\n",
       "    .dataframe tbody tr th:only-of-type {\n",
       "        vertical-align: middle;\n",
       "    }\n",
       "\n",
       "    .dataframe tbody tr th {\n",
       "        vertical-align: top;\n",
       "    }\n",
       "\n",
       "    .dataframe thead th {\n",
       "        text-align: right;\n",
       "    }\n",
       "</style>\n",
       "<table border=\"1\" class=\"dataframe\">\n",
       "  <thead>\n",
       "    <tr style=\"text-align: right;\">\n",
       "      <th></th>\n",
       "      <th>DataReuniao</th>\n",
       "      <th>DataDeliberacao</th>\n",
       "      <th>Situacao</th>\n",
       "      <th>Assunto</th>\n",
       "      <th>Autor</th>\n",
       "      <th>Proposicao</th>\n",
       "      <th>Ano</th>\n",
       "      <th>Texto</th>\n",
       "    </tr>\n",
       "  </thead>\n",
       "  <tbody>\n",
       "    <tr>\n",
       "      <th>0</th>\n",
       "      <td>15/03/2021</td>\n",
       "      <td>15/03/2021</td>\n",
       "      <td>Proposição Aprovada</td>\n",
       "      <td>Limpeza, Macadamização, Patrolamento, Retifica...</td>\n",
       "      <td>VereadorRoger Michel Knipers.</td>\n",
       "      <td>401</td>\n",
       "      <td>2021</td>\n",
       "      <td>O vereador abaixo firmado requer, após ouvido ...</td>\n",
       "    </tr>\n",
       "    <tr>\n",
       "      <th>1</th>\n",
       "      <td>15/03/2021</td>\n",
       "      <td>15/03/2021</td>\n",
       "      <td>Proposição Aprovada</td>\n",
       "      <td>Manutenção de via pública</td>\n",
       "      <td>VereadorAna Paula Reiter.</td>\n",
       "      <td>402</td>\n",
       "      <td>2021</td>\n",
       "      <td>A vereadora abaixo firmada requer, após ouvido...</td>\n",
       "    </tr>\n",
       "    <tr>\n",
       "      <th>2</th>\n",
       "      <td>18/03/2021</td>\n",
       "      <td></td>\n",
       "      <td>Entrada na Ordem do Dia</td>\n",
       "      <td>Manutenção de via pública</td>\n",
       "      <td>VereadorJonas Luiz de Lima.</td>\n",
       "      <td>403</td>\n",
       "      <td>2021</td>\n",
       "      <td>O Vereador abaixo firmado requer, após ouvido ...</td>\n",
       "    </tr>\n",
       "    <tr>\n",
       "      <th>3</th>\n",
       "      <td>18/03/2021</td>\n",
       "      <td></td>\n",
       "      <td>Entrada na Ordem do Dia</td>\n",
       "      <td>Limpeza, Macadamização, Patrolamento, Retifica...</td>\n",
       "      <td>VereadorFlávio Augusto Ferri Molinari.</td>\n",
       "      <td>404</td>\n",
       "      <td>2021</td>\n",
       "      <td>O vereador que está subscreve, no uso das atri...</td>\n",
       "    </tr>\n",
       "    <tr>\n",
       "      <th>4</th>\n",
       "      <td>18/03/2021</td>\n",
       "      <td></td>\n",
       "      <td>Entrada na Ordem do Dia</td>\n",
       "      <td>Limpeza, Macadamização, Patrolamento, Retifica...</td>\n",
       "      <td>VereadorFlávio Augusto Ferri Molinari.</td>\n",
       "      <td>405</td>\n",
       "      <td>2021</td>\n",
       "      <td>O vereador que está subscreve, no uso das atri...</td>\n",
       "    </tr>\n",
       "  </tbody>\n",
       "</table>\n",
       "</div>"
      ],
      "text/plain": [
       "  DataReuniao DataDeliberacao                 Situacao  \\\n",
       "0  15/03/2021      15/03/2021      Proposição Aprovada   \n",
       "1  15/03/2021      15/03/2021      Proposição Aprovada   \n",
       "2  18/03/2021                  Entrada na Ordem do Dia   \n",
       "3  18/03/2021                  Entrada na Ordem do Dia   \n",
       "4  18/03/2021                  Entrada na Ordem do Dia   \n",
       "\n",
       "                                             Assunto  \\\n",
       "0  Limpeza, Macadamização, Patrolamento, Retifica...   \n",
       "1                          Manutenção de via pública   \n",
       "2                          Manutenção de via pública   \n",
       "3  Limpeza, Macadamização, Patrolamento, Retifica...   \n",
       "4  Limpeza, Macadamização, Patrolamento, Retifica...   \n",
       "\n",
       "                                    Autor  Proposicao   Ano  \\\n",
       "0           VereadorRoger Michel Knipers.         401  2021   \n",
       "1               VereadorAna Paula Reiter.         402  2021   \n",
       "2             VereadorJonas Luiz de Lima.         403  2021   \n",
       "3  VereadorFlávio Augusto Ferri Molinari.         404  2021   \n",
       "4  VereadorFlávio Augusto Ferri Molinari.         405  2021   \n",
       "\n",
       "                                               Texto  \n",
       "0  O vereador abaixo firmado requer, após ouvido ...  \n",
       "1  A vereadora abaixo firmada requer, após ouvido...  \n",
       "2  O Vereador abaixo firmado requer, após ouvido ...  \n",
       "3  O vereador que está subscreve, no uso das atri...  \n",
       "4  O vereador que está subscreve, no uso das atri...  "
      ]
     },
     "execution_count": 20,
     "metadata": {},
     "output_type": "execute_result"
    }
   ],
   "source": [
    "#teste\n",
    "SQLInsertProposicoes(teste)\n",
    "SQLSelect('''\n",
    "    select *\n",
    "    from Proposicoes\n",
    "    limit 5\n",
    "''')"
   ]
  },
  {
   "cell_type": "code",
   "execution_count": 21,
   "metadata": {},
   "outputs": [],
   "source": [
    "# Estou a utilizar um f e {} - código para truncar a tabela\n",
    "\n",
    "#The TRUNCATE T#ABLE statement is used to remove all records from a table.\n",
    "\n",
    "#SQLite does not have an explicit TRUNCATE TABLE command like other databases. \n",
    "#Instead, it has added a TRUNCATE optimizer to the DELETE statement. To truncate a table in SQLite, you just need to execute a DELETE statement without a WHERE clause. \n",
    "#The TRUNCATE optimizer handles the rest. Let's explain.\n",
    "\n",
    "def SQLTruncate(NomeTabela):\n",
    "\n",
    "    #conn = sqlite3.connect(r\"C:\\Users\\fiu126\\Desktop\\Coursera\\Maratona Power BI e Python\\Indaial.db\")\n",
    "    conn = sqlite3.connect(r\"C:\\Users\\fiu126\\Desktop\\Coursera\\Maratona Power BI e Python\\alternativa.sqlite\")\n",
    "\n",
    "\n",
    "    cursor = conn.cursor()\n",
    "\n",
    "    cursor.execute(f'''\n",
    "\n",
    "                   DELETE FROM {NomeTabela}\n",
    "\n",
    "                   ''')\n",
    "\n",
    "    conn.commit()\n",
    "    cursor.close()"
   ]
  },
  {
   "cell_type": "code",
   "execution_count": 22,
   "metadata": {},
   "outputs": [
    {
     "data": {
      "text/html": [
       "<div>\n",
       "<style scoped>\n",
       "    .dataframe tbody tr th:only-of-type {\n",
       "        vertical-align: middle;\n",
       "    }\n",
       "\n",
       "    .dataframe tbody tr th {\n",
       "        vertical-align: top;\n",
       "    }\n",
       "\n",
       "    .dataframe thead th {\n",
       "        text-align: right;\n",
       "    }\n",
       "</style>\n",
       "<table border=\"1\" class=\"dataframe\">\n",
       "  <thead>\n",
       "    <tr style=\"text-align: right;\">\n",
       "      <th></th>\n",
       "      <th>DataReuniao</th>\n",
       "      <th>DataDeliberacao</th>\n",
       "      <th>Situacao</th>\n",
       "      <th>Assunto</th>\n",
       "      <th>Autor</th>\n",
       "      <th>Proposicao</th>\n",
       "      <th>Ano</th>\n",
       "      <th>Texto</th>\n",
       "    </tr>\n",
       "  </thead>\n",
       "  <tbody>\n",
       "  </tbody>\n",
       "</table>\n",
       "</div>"
      ],
      "text/plain": [
       "Empty DataFrame\n",
       "Columns: [DataReuniao, DataDeliberacao, Situacao, Assunto, Autor, Proposicao, Ano, Texto]\n",
       "Index: []"
      ]
     },
     "execution_count": 22,
     "metadata": {},
     "output_type": "execute_result"
    }
   ],
   "source": [
    "# Limpando dados da tabela\n",
    "SQLTruncate('Proposicoes')\n",
    "\n",
    "# Visualizando a tabela\n",
    "SQLSelect('select *from Proposicoes')"
   ]
  },
  {
   "cell_type": "markdown",
   "metadata": {},
   "source": [
    "## 3) Alimentação Incremental"
   ]
  },
  {
   "cell_type": "code",
   "execution_count": 23,
   "metadata": {},
   "outputs": [
    {
     "data": {
      "text/html": [
       "<div>\n",
       "<style scoped>\n",
       "    .dataframe tbody tr th:only-of-type {\n",
       "        vertical-align: middle;\n",
       "    }\n",
       "\n",
       "    .dataframe tbody tr th {\n",
       "        vertical-align: top;\n",
       "    }\n",
       "\n",
       "    .dataframe thead th {\n",
       "        text-align: right;\n",
       "    }\n",
       "</style>\n",
       "<table border=\"1\" class=\"dataframe\">\n",
       "  <thead>\n",
       "    <tr style=\"text-align: right;\">\n",
       "      <th></th>\n",
       "      <th>DataReuniao</th>\n",
       "      <th>DataDeliberacao</th>\n",
       "      <th>Situacao</th>\n",
       "      <th>Assunto</th>\n",
       "      <th>Autor</th>\n",
       "      <th>Proposicao</th>\n",
       "      <th>Ano</th>\n",
       "      <th>Texto</th>\n",
       "    </tr>\n",
       "  </thead>\n",
       "  <tbody>\n",
       "    <tr>\n",
       "      <th>0</th>\n",
       "      <td>01/02/2021</td>\n",
       "      <td>01/02/2021</td>\n",
       "      <td>Proposição Aprovada</td>\n",
       "      <td>Trânsito</td>\n",
       "      <td>VereadorRemir José de Faveri.</td>\n",
       "      <td>1</td>\n",
       "      <td>2021</td>\n",
       "      <td>O vereador que esta subscreve, no uso das atri...</td>\n",
       "    </tr>\n",
       "  </tbody>\n",
       "</table>\n",
       "</div>"
      ],
      "text/plain": [
       "  DataReuniao DataDeliberacao             Situacao   Assunto  \\\n",
       "0  01/02/2021      01/02/2021  Proposição Aprovada  Trânsito   \n",
       "\n",
       "                           Autor  Proposicao   Ano  \\\n",
       "0  VereadorRemir José de Faveri.           1  2021   \n",
       "\n",
       "                                               Texto  \n",
       "0  O vereador que esta subscreve, no uso das atri...  "
      ]
     },
     "execution_count": 23,
     "metadata": {},
     "output_type": "execute_result"
    }
   ],
   "source": [
    "# ========= INICIO =========\n",
    "ano = 2021\n",
    "\n",
    "dados_ano = SQLSelect(f'select max(Proposicao) as Proposicao from Proposicoes where Ano = {ano}') #query ao máximo de proposição - saber qual foi a última informação carregada\n",
    "ultima_proposicao = dados_ano['Proposicao'].loc[0] # retiro o valor\n",
    "\n",
    "\n",
    "#condição que garante se o resultado for nulo ele considera 1\n",
    "# ----- INICIO ALTERAÇÃO ----- \n",
    "if ultima_proposicao == None: #'None' - plalavra reservada no python\n",
    "    proxima_proposicao = 1\n",
    "else:\n",
    "    proxima_proposicao = int(ultima_proposicao) + 1 \n",
    "# ----- FIM ALTERAÇÃO ----- \n",
    "\n",
    "\n",
    "dados = Conteudo(proxima_proposicao,ano)\n",
    "tabela = pd.DataFrame([dados])\n",
    "SQLInsertProposicoes(tabela)\n",
    "# ========= FIM =========\n",
    "\n",
    "\n",
    "# visualizando dados\n",
    "SQLSelect('select * from Proposicoes')"
   ]
  },
  {
   "cell_type": "code",
   "execution_count": 24,
   "metadata": {},
   "outputs": [],
   "source": [
    "#criar uma função\n",
    "\n",
    "def InsereProximaProposicao(ano):\n",
    "\n",
    "    # identifica  a última proposição registada \n",
    "    dados_ano = SQLSelect(f'select max(Proposicao) as Proposicao  from Proposicoes where Ano = {ano}')\n",
    "    ultima_proposicao = dados_ano['Proposicao'].loc[0]\n",
    "\n",
    "    # Verifica se foi identificado qualquer lançamento naquele ano\n",
    "    if ultima_proposicao == None:\n",
    "        proxima_proposicao = 1\n",
    "    else:\n",
    "        proxima_proposicao = int(ultima_proposicao) + 1 \n",
    "\n",
    "    # Captura e Insere dados na tabela\n",
    "    dados = Conteudo(proxima_proposicao,ano)\n",
    "    tabela = pd.DataFrame([dados])\n",
    "    SQLInsertProposicoes(tabela)"
   ]
  },
  {
   "cell_type": "code",
   "execution_count": 25,
   "metadata": {},
   "outputs": [
    {
     "data": {
      "text/html": [
       "<div>\n",
       "<style scoped>\n",
       "    .dataframe tbody tr th:only-of-type {\n",
       "        vertical-align: middle;\n",
       "    }\n",
       "\n",
       "    .dataframe tbody tr th {\n",
       "        vertical-align: top;\n",
       "    }\n",
       "\n",
       "    .dataframe thead th {\n",
       "        text-align: right;\n",
       "    }\n",
       "</style>\n",
       "<table border=\"1\" class=\"dataframe\">\n",
       "  <thead>\n",
       "    <tr style=\"text-align: right;\">\n",
       "      <th></th>\n",
       "      <th>DataReuniao</th>\n",
       "      <th>DataDeliberacao</th>\n",
       "      <th>Situacao</th>\n",
       "      <th>Assunto</th>\n",
       "      <th>Autor</th>\n",
       "      <th>Proposicao</th>\n",
       "      <th>Ano</th>\n",
       "      <th>Texto</th>\n",
       "    </tr>\n",
       "  </thead>\n",
       "  <tbody>\n",
       "    <tr>\n",
       "      <th>0</th>\n",
       "      <td>01/02/2021</td>\n",
       "      <td>01/02/2021</td>\n",
       "      <td>Proposição Aprovada</td>\n",
       "      <td>Trânsito</td>\n",
       "      <td>VereadorRemir José de Faveri.</td>\n",
       "      <td>1</td>\n",
       "      <td>2021</td>\n",
       "      <td>O vereador que esta subscreve, no uso das atri...</td>\n",
       "    </tr>\n",
       "    <tr>\n",
       "      <th>1</th>\n",
       "      <td>01/02/2021</td>\n",
       "      <td>01/02/2021</td>\n",
       "      <td>Proposição Aprovada</td>\n",
       "      <td>Manutenção de via pública</td>\n",
       "      <td>VereadorRemir José de Faveri.</td>\n",
       "      <td>2</td>\n",
       "      <td>2021</td>\n",
       "      <td>O vereador abaixo firmado requer, após ouvido ...</td>\n",
       "    </tr>\n",
       "  </tbody>\n",
       "</table>\n",
       "</div>"
      ],
      "text/plain": [
       "  DataReuniao DataDeliberacao             Situacao                    Assunto  \\\n",
       "0  01/02/2021      01/02/2021  Proposição Aprovada                   Trânsito   \n",
       "1  01/02/2021      01/02/2021  Proposição Aprovada  Manutenção de via pública   \n",
       "\n",
       "                           Autor  Proposicao   Ano  \\\n",
       "0  VereadorRemir José de Faveri.           1  2021   \n",
       "1  VereadorRemir José de Faveri.           2  2021   \n",
       "\n",
       "                                               Texto  \n",
       "0  O vereador que esta subscreve, no uso das atri...  \n",
       "1  O vereador abaixo firmado requer, após ouvido ...  "
      ]
     },
     "execution_count": 25,
     "metadata": {},
     "output_type": "execute_result"
    }
   ],
   "source": [
    "#teste\n",
    "InsereProximaProposicao(2021)\n",
    "# visualizando dados\n",
    "SQLSelect('select * from Proposicoes')"
   ]
  },
  {
   "cell_type": "code",
   "execution_count": 26,
   "metadata": {},
   "outputs": [
    {
     "data": {
      "text/html": [
       "<div>\n",
       "<style scoped>\n",
       "    .dataframe tbody tr th:only-of-type {\n",
       "        vertical-align: middle;\n",
       "    }\n",
       "\n",
       "    .dataframe tbody tr th {\n",
       "        vertical-align: top;\n",
       "    }\n",
       "\n",
       "    .dataframe thead th {\n",
       "        text-align: right;\n",
       "    }\n",
       "</style>\n",
       "<table border=\"1\" class=\"dataframe\">\n",
       "  <thead>\n",
       "    <tr style=\"text-align: right;\">\n",
       "      <th></th>\n",
       "      <th>DataReuniao</th>\n",
       "      <th>DataDeliberacao</th>\n",
       "      <th>Situacao</th>\n",
       "      <th>Assunto</th>\n",
       "      <th>Autor</th>\n",
       "      <th>Proposicao</th>\n",
       "      <th>Ano</th>\n",
       "      <th>Texto</th>\n",
       "    </tr>\n",
       "  </thead>\n",
       "  <tbody>\n",
       "  </tbody>\n",
       "</table>\n",
       "</div>"
      ],
      "text/plain": [
       "Empty DataFrame\n",
       "Columns: [DataReuniao, DataDeliberacao, Situacao, Assunto, Autor, Proposicao, Ano, Texto]\n",
       "Index: []"
      ]
     },
     "execution_count": 26,
     "metadata": {},
     "output_type": "execute_result"
    }
   ],
   "source": [
    "# limpar a informação da tabela\n",
    "SQLTruncate('Proposicoes')\n",
    "\n",
    "# Visualizar o resultado\n",
    "SQLSelect('select *from Proposicoes')"
   ]
  },
  {
   "cell_type": "code",
   "execution_count": 27,
   "metadata": {},
   "outputs": [],
   "source": [
    "#importação da informação de um ano específico - por exemplo 1996 (a condição de paragem é enquanto não existir dois erros)\n",
    "\n",
    "ano = 1996\n",
    "quantidade = 999999\n",
    "erros_admissiveis = 2\n",
    "segundos_espera = 0\n",
    "\n",
    "# erros\n",
    "erros = 0\n",
    "\n",
    "# variaveis para loop\n",
    "i = 1\n",
    "lista = []\n",
    "\n",
    "while erros <= erros_admissiveis:\n",
    "\n",
    "    try:\n",
    "        InsereProximaProposicao(ano)\n",
    "    except:\n",
    "        erros += 1\n",
    "        pass\n",
    "\n",
    "    time.sleep(segundos_espera)\n",
    "\n",
    "    # carregamento incremental das variáveis\n",
    "    i +=1"
   ]
  },
  {
   "cell_type": "code",
   "execution_count": 28,
   "metadata": {},
   "outputs": [
    {
     "data": {
      "text/html": [
       "<div>\n",
       "<style scoped>\n",
       "    .dataframe tbody tr th:only-of-type {\n",
       "        vertical-align: middle;\n",
       "    }\n",
       "\n",
       "    .dataframe tbody tr th {\n",
       "        vertical-align: top;\n",
       "    }\n",
       "\n",
       "    .dataframe thead th {\n",
       "        text-align: right;\n",
       "    }\n",
       "</style>\n",
       "<table border=\"1\" class=\"dataframe\">\n",
       "  <thead>\n",
       "    <tr style=\"text-align: right;\">\n",
       "      <th></th>\n",
       "      <th>count(*)</th>\n",
       "    </tr>\n",
       "  </thead>\n",
       "  <tbody>\n",
       "    <tr>\n",
       "      <th>0</th>\n",
       "      <td>24</td>\n",
       "    </tr>\n",
       "  </tbody>\n",
       "</table>\n",
       "</div>"
      ],
      "text/plain": [
       "   count(*)\n",
       "0        24"
      ]
     },
     "execution_count": 28,
     "metadata": {},
     "output_type": "execute_result"
    }
   ],
   "source": [
    "# Visualizar o resultado - 1996 tem 24 proposições\n",
    "SQLSelect('select count(*) from Proposicoes')"
   ]
  },
  {
   "cell_type": "code",
   "execution_count": 29,
   "metadata": {},
   "outputs": [],
   "source": [
    "#colocar os parametros numa função\n",
    "def BuscaGravaDadosAno(ano, quantidade = 10, erros_admissiveis = 2, segundos_espera = 0):\n",
    "\n",
    "    # erros\n",
    "    erros = 0\n",
    "\n",
    "    # variaveis para loop\n",
    "    i = 1\n",
    "    lista = []\n",
    "\n",
    "    while erros <= erros_admissiveis:\n",
    "\n",
    "        try:\n",
    "            InsereProximaProposicao(ano)\n",
    "        except:\n",
    "            erros += 1\n",
    "            pass\n",
    "\n",
    "        time.sleep(segundos_espera)\n",
    "\n",
    "        # carregamento incremental das variáveis\n",
    "        i +=1"
   ]
  },
  {
   "cell_type": "code",
   "execution_count": 30,
   "metadata": {},
   "outputs": [
    {
     "data": {
      "text/html": [
       "<div>\n",
       "<style scoped>\n",
       "    .dataframe tbody tr th:only-of-type {\n",
       "        vertical-align: middle;\n",
       "    }\n",
       "\n",
       "    .dataframe tbody tr th {\n",
       "        vertical-align: top;\n",
       "    }\n",
       "\n",
       "    .dataframe thead th {\n",
       "        text-align: right;\n",
       "    }\n",
       "</style>\n",
       "<table border=\"1\" class=\"dataframe\">\n",
       "  <thead>\n",
       "    <tr style=\"text-align: right;\">\n",
       "      <th></th>\n",
       "      <th>count(*)</th>\n",
       "    </tr>\n",
       "  </thead>\n",
       "  <tbody>\n",
       "    <tr>\n",
       "      <th>0</th>\n",
       "      <td>24</td>\n",
       "    </tr>\n",
       "  </tbody>\n",
       "</table>\n",
       "</div>"
      ],
      "text/plain": [
       "   count(*)\n",
       "0        24"
      ]
     },
     "execution_count": 30,
     "metadata": {},
     "output_type": "execute_result"
    }
   ],
   "source": [
    "BuscaGravaDadosAno(1996,9999,2,1)\n",
    "SQLSelect('select count(*) from Proposicoes')"
   ]
  },
  {
   "cell_type": "code",
   "execution_count": 31,
   "metadata": {},
   "outputs": [
    {
     "data": {
      "text/html": [
       "<div>\n",
       "<style scoped>\n",
       "    .dataframe tbody tr th:only-of-type {\n",
       "        vertical-align: middle;\n",
       "    }\n",
       "\n",
       "    .dataframe tbody tr th {\n",
       "        vertical-align: top;\n",
       "    }\n",
       "\n",
       "    .dataframe thead th {\n",
       "        text-align: right;\n",
       "    }\n",
       "</style>\n",
       "<table border=\"1\" class=\"dataframe\">\n",
       "  <thead>\n",
       "    <tr style=\"text-align: right;\">\n",
       "      <th></th>\n",
       "      <th>DataReuniao</th>\n",
       "      <th>DataDeliberacao</th>\n",
       "      <th>Situacao</th>\n",
       "      <th>Assunto</th>\n",
       "      <th>Autor</th>\n",
       "      <th>Proposicao</th>\n",
       "      <th>Ano</th>\n",
       "      <th>Texto</th>\n",
       "    </tr>\n",
       "  </thead>\n",
       "  <tbody>\n",
       "  </tbody>\n",
       "</table>\n",
       "</div>"
      ],
      "text/plain": [
       "Empty DataFrame\n",
       "Columns: [DataReuniao, DataDeliberacao, Situacao, Assunto, Autor, Proposicao, Ano, Texto]\n",
       "Index: []"
      ]
     },
     "execution_count": 31,
     "metadata": {},
     "output_type": "execute_result"
    }
   ],
   "source": [
    "# Limpando dados da tabela\n",
    "SQLTruncate('Proposicoes')\n",
    "\n",
    "# Visualizando a tabela\n",
    "SQLSelect('select *from Proposicoes')"
   ]
  },
  {
   "cell_type": "code",
   "execution_count": 32,
   "metadata": {},
   "outputs": [
    {
     "name": "stdout",
     "output_type": "stream",
     "text": [
      "Iniciando gravação dos dados do ano:  2020\n",
      "Iniciando gravação dos dados do ano:  2021\n",
      "Inserção finalizada 😁\n"
     ]
    }
   ],
   "source": [
    "# colocar num for loop - retirar toda a informação - 1996 a 2021\n",
    "ano_inicial = 2020\n",
    "ano_final = 2021\n",
    "\n",
    "for i in list(range(ano_inicial, ano_final+1)):\n",
    "    print('Iniciando gravação dos dados do ano: ',i)\n",
    "    try:\n",
    "        BuscaGravaDadosAno(i, quantidade = 999999)\n",
    "    except:\n",
    "        pass\n",
    "    \n",
    "print('Inserção finalizada 😁')"
   ]
  },
  {
   "cell_type": "code",
   "execution_count": null,
   "metadata": {},
   "outputs": [],
   "source": []
  }
 ],
 "metadata": {
  "kernelspec": {
   "display_name": "Python 3",
   "language": "python",
   "name": "python3"
  },
  "language_info": {
   "codemirror_mode": {
    "name": "ipython",
    "version": 3
   },
   "file_extension": ".py",
   "mimetype": "text/x-python",
   "name": "python",
   "nbconvert_exporter": "python",
   "pygments_lexer": "ipython3",
   "version": "3.7.3"
  }
 },
 "nbformat": 4,
 "nbformat_minor": 2
}
